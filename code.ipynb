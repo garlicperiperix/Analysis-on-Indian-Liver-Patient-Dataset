{
 "cells": [
  {
   "cell_type": "code",
   "execution_count": 1,
   "id": "66f5c8d9",
   "metadata": {},
   "outputs": [],
   "source": [
    "import pandas as pd\n",
    "import numpy as np\n",
    "import mysql.connector as connection\n",
    "#import MySQLdb\n",
    "import matplotlib.pyplot as plt\n",
    "import seaborn as sns\n",
    "#from google.colab import files\n",
    "import io\n",
    "import warnings\n",
    "warnings.filterwarnings('ignore')\n"
   ]
  },
  {
   "cell_type": "code",
   "execution_count": 2,
   "id": "a96f31be",
   "metadata": {},
   "outputs": [],
   "source": [
    "from sklearn.preprocessing import StandardScaler, MinMaxScaler, RobustScaler\n",
    "from sklearn.model_selection import train_test_split\n",
    "from sklearn.model_selection import GridSearchCV\n",
    "from sklearn.tree import DecisionTreeClassifier"
   ]
  },
  {
   "cell_type": "code",
   "execution_count": null,
   "id": "d37a1b6a",
   "metadata": {},
   "outputs": [],
   "source": [
    "#databaseconnection"
   ]
  },
  {
   "cell_type": "code",
   "execution_count": 3,
   "id": "ca3de096",
   "metadata": {},
   "outputs": [],
   "source": [
    "try:\n",
    "    mydb = connection.connect(host=\"127.0.0.1\", database = 'record',user=\"root\", passwd=\"Howyoudoing@29\",use_pure=True)\n",
    "    query = \"Select * from record_table;\"\n",
    "    result_dataFrame = pd.read_sql(query,mydb)\n",
    "    mydb.close() #close the connection\n",
    "except Exception as e:\n",
    "    mydb.close()\n",
    "    print(str(e))"
   ]
  },
  {
   "cell_type": "code",
   "execution_count": 4,
   "id": "8b6c0bf3",
   "metadata": {},
   "outputs": [
    {
     "data": {
      "text/html": [
       "<div>\n",
       "<style scoped>\n",
       "    .dataframe tbody tr th:only-of-type {\n",
       "        vertical-align: middle;\n",
       "    }\n",
       "\n",
       "    .dataframe tbody tr th {\n",
       "        vertical-align: top;\n",
       "    }\n",
       "\n",
       "    .dataframe thead th {\n",
       "        text-align: right;\n",
       "    }\n",
       "</style>\n",
       "<table border=\"1\" class=\"dataframe\">\n",
       "  <thead>\n",
       "    <tr style=\"text-align: right;\">\n",
       "      <th></th>\n",
       "      <th>Age</th>\n",
       "      <th>Gender</th>\n",
       "      <th>Total_Bilirubin</th>\n",
       "      <th>Direct_Bilirubin</th>\n",
       "      <th>Alkaline_Phosphotase</th>\n",
       "      <th>Alamine_Aminotransferase</th>\n",
       "      <th>Aspartate_Aminotransferase</th>\n",
       "      <th>Total_Protiens</th>\n",
       "      <th>Albumin</th>\n",
       "      <th>Albumin_and_Globulin_Ratio</th>\n",
       "      <th>Dataset</th>\n",
       "    </tr>\n",
       "  </thead>\n",
       "  <tbody>\n",
       "    <tr>\n",
       "      <th>0</th>\n",
       "      <td>65</td>\n",
       "      <td>0</td>\n",
       "      <td>0.7</td>\n",
       "      <td>0.1</td>\n",
       "      <td>187</td>\n",
       "      <td>16</td>\n",
       "      <td>18</td>\n",
       "      <td>6.8</td>\n",
       "      <td>3.3</td>\n",
       "      <td>0.90</td>\n",
       "      <td>1</td>\n",
       "    </tr>\n",
       "    <tr>\n",
       "      <th>1</th>\n",
       "      <td>62</td>\n",
       "      <td>1</td>\n",
       "      <td>10.9</td>\n",
       "      <td>5.5</td>\n",
       "      <td>699</td>\n",
       "      <td>64</td>\n",
       "      <td>100</td>\n",
       "      <td>7.5</td>\n",
       "      <td>3.2</td>\n",
       "      <td>0.74</td>\n",
       "      <td>1</td>\n",
       "    </tr>\n",
       "    <tr>\n",
       "      <th>2</th>\n",
       "      <td>62</td>\n",
       "      <td>1</td>\n",
       "      <td>7.3</td>\n",
       "      <td>4.1</td>\n",
       "      <td>490</td>\n",
       "      <td>60</td>\n",
       "      <td>68</td>\n",
       "      <td>7.0</td>\n",
       "      <td>3.3</td>\n",
       "      <td>0.89</td>\n",
       "      <td>1</td>\n",
       "    </tr>\n",
       "    <tr>\n",
       "      <th>3</th>\n",
       "      <td>58</td>\n",
       "      <td>1</td>\n",
       "      <td>1.0</td>\n",
       "      <td>0.4</td>\n",
       "      <td>182</td>\n",
       "      <td>14</td>\n",
       "      <td>20</td>\n",
       "      <td>6.8</td>\n",
       "      <td>3.4</td>\n",
       "      <td>1.00</td>\n",
       "      <td>1</td>\n",
       "    </tr>\n",
       "    <tr>\n",
       "      <th>4</th>\n",
       "      <td>72</td>\n",
       "      <td>1</td>\n",
       "      <td>3.9</td>\n",
       "      <td>2.0</td>\n",
       "      <td>195</td>\n",
       "      <td>27</td>\n",
       "      <td>59</td>\n",
       "      <td>7.3</td>\n",
       "      <td>2.4</td>\n",
       "      <td>0.40</td>\n",
       "      <td>1</td>\n",
       "    </tr>\n",
       "    <tr>\n",
       "      <th>...</th>\n",
       "      <td>...</td>\n",
       "      <td>...</td>\n",
       "      <td>...</td>\n",
       "      <td>...</td>\n",
       "      <td>...</td>\n",
       "      <td>...</td>\n",
       "      <td>...</td>\n",
       "      <td>...</td>\n",
       "      <td>...</td>\n",
       "      <td>...</td>\n",
       "      <td>...</td>\n",
       "    </tr>\n",
       "    <tr>\n",
       "      <th>574</th>\n",
       "      <td>60</td>\n",
       "      <td>1</td>\n",
       "      <td>0.5</td>\n",
       "      <td>0.1</td>\n",
       "      <td>500</td>\n",
       "      <td>20</td>\n",
       "      <td>34</td>\n",
       "      <td>5.9</td>\n",
       "      <td>1.6</td>\n",
       "      <td>0.37</td>\n",
       "      <td>0</td>\n",
       "    </tr>\n",
       "    <tr>\n",
       "      <th>575</th>\n",
       "      <td>40</td>\n",
       "      <td>1</td>\n",
       "      <td>0.6</td>\n",
       "      <td>0.1</td>\n",
       "      <td>98</td>\n",
       "      <td>35</td>\n",
       "      <td>31</td>\n",
       "      <td>6.0</td>\n",
       "      <td>3.2</td>\n",
       "      <td>1.10</td>\n",
       "      <td>1</td>\n",
       "    </tr>\n",
       "    <tr>\n",
       "      <th>576</th>\n",
       "      <td>52</td>\n",
       "      <td>1</td>\n",
       "      <td>0.8</td>\n",
       "      <td>0.2</td>\n",
       "      <td>245</td>\n",
       "      <td>48</td>\n",
       "      <td>49</td>\n",
       "      <td>6.4</td>\n",
       "      <td>3.2</td>\n",
       "      <td>1.00</td>\n",
       "      <td>1</td>\n",
       "    </tr>\n",
       "    <tr>\n",
       "      <th>577</th>\n",
       "      <td>31</td>\n",
       "      <td>1</td>\n",
       "      <td>1.3</td>\n",
       "      <td>0.5</td>\n",
       "      <td>184</td>\n",
       "      <td>29</td>\n",
       "      <td>32</td>\n",
       "      <td>6.8</td>\n",
       "      <td>3.4</td>\n",
       "      <td>1.00</td>\n",
       "      <td>1</td>\n",
       "    </tr>\n",
       "    <tr>\n",
       "      <th>578</th>\n",
       "      <td>38</td>\n",
       "      <td>1</td>\n",
       "      <td>1.0</td>\n",
       "      <td>0.3</td>\n",
       "      <td>216</td>\n",
       "      <td>21</td>\n",
       "      <td>24</td>\n",
       "      <td>7.3</td>\n",
       "      <td>4.4</td>\n",
       "      <td>1.50</td>\n",
       "      <td>0</td>\n",
       "    </tr>\n",
       "  </tbody>\n",
       "</table>\n",
       "<p>579 rows × 11 columns</p>\n",
       "</div>"
      ],
      "text/plain": [
       "     Age  Gender  Total_Bilirubin  Direct_Bilirubin  Alkaline_Phosphotase  \\\n",
       "0     65       0              0.7               0.1                   187   \n",
       "1     62       1             10.9               5.5                   699   \n",
       "2     62       1              7.3               4.1                   490   \n",
       "3     58       1              1.0               0.4                   182   \n",
       "4     72       1              3.9               2.0                   195   \n",
       "..   ...     ...              ...               ...                   ...   \n",
       "574   60       1              0.5               0.1                   500   \n",
       "575   40       1              0.6               0.1                    98   \n",
       "576   52       1              0.8               0.2                   245   \n",
       "577   31       1              1.3               0.5                   184   \n",
       "578   38       1              1.0               0.3                   216   \n",
       "\n",
       "     Alamine_Aminotransferase  Aspartate_Aminotransferase  Total_Protiens  \\\n",
       "0                          16                          18             6.8   \n",
       "1                          64                         100             7.5   \n",
       "2                          60                          68             7.0   \n",
       "3                          14                          20             6.8   \n",
       "4                          27                          59             7.3   \n",
       "..                        ...                         ...             ...   \n",
       "574                        20                          34             5.9   \n",
       "575                        35                          31             6.0   \n",
       "576                        48                          49             6.4   \n",
       "577                        29                          32             6.8   \n",
       "578                        21                          24             7.3   \n",
       "\n",
       "     Albumin  Albumin_and_Globulin_Ratio  Dataset  \n",
       "0        3.3                        0.90        1  \n",
       "1        3.2                        0.74        1  \n",
       "2        3.3                        0.89        1  \n",
       "3        3.4                        1.00        1  \n",
       "4        2.4                        0.40        1  \n",
       "..       ...                         ...      ...  \n",
       "574      1.6                        0.37        0  \n",
       "575      3.2                        1.10        1  \n",
       "576      3.2                        1.00        1  \n",
       "577      3.4                        1.00        1  \n",
       "578      4.4                        1.50        0  \n",
       "\n",
       "[579 rows x 11 columns]"
      ]
     },
     "execution_count": 4,
     "metadata": {},
     "output_type": "execute_result"
    }
   ],
   "source": [
    "result_dataFrame"
   ]
  },
  {
   "cell_type": "code",
   "execution_count": 5,
   "id": "38f93f47",
   "metadata": {},
   "outputs": [],
   "source": [
    "df = result_dataFrame"
   ]
  },
  {
   "cell_type": "code",
   "execution_count": 6,
   "id": "5ec423b1",
   "metadata": {},
   "outputs": [
    {
     "data": {
      "text/plain": [
       "<AxesSubplot:>"
      ]
     },
     "execution_count": 6,
     "metadata": {},
     "output_type": "execute_result"
    },
    {
     "data": {
      "image/png": "[encoded data removed]",
      "text/plain": [
       "<Figure size 432x288 with 2 Axes>"
      ]
     },
     "metadata": {
      "needs_background": "light"
     },
     "output_type": "display_data"
    }
   ],
   "source": [
    "import seaborn as sns\n",
    "\n",
    "sns.heatmap(df.corr())"
   ]
  },
  {
   "cell_type": "code",
   "execution_count": 7,
   "id": "fd3c89b4",
   "metadata": {},
   "outputs": [
    {
     "data": {
      "text/html": [
       "<div>\n",
       "<style scoped>\n",
       "    .dataframe tbody tr th:only-of-type {\n",
       "        vertical-align: middle;\n",
       "    }\n",
       "\n",
       "    .dataframe tbody tr th {\n",
       "        vertical-align: top;\n",
       "    }\n",
       "\n",
       "    .dataframe thead th {\n",
       "        text-align: right;\n",
       "    }\n",
       "</style>\n",
       "<table border=\"1\" class=\"dataframe\">\n",
       "  <thead>\n",
       "    <tr style=\"text-align: right;\">\n",
       "      <th></th>\n",
       "      <th>Null Values</th>\n",
       "      <th>Percentage Null Values</th>\n",
       "    </tr>\n",
       "  </thead>\n",
       "  <tbody>\n",
       "    <tr>\n",
       "      <th>Age</th>\n",
       "      <td>0</td>\n",
       "      <td>0.0</td>\n",
       "    </tr>\n",
       "    <tr>\n",
       "      <th>Gender</th>\n",
       "      <td>0</td>\n",
       "      <td>0.0</td>\n",
       "    </tr>\n",
       "    <tr>\n",
       "      <th>Total_Bilirubin</th>\n",
       "      <td>0</td>\n",
       "      <td>0.0</td>\n",
       "    </tr>\n",
       "    <tr>\n",
       "      <th>Direct_Bilirubin</th>\n",
       "      <td>0</td>\n",
       "      <td>0.0</td>\n",
       "    </tr>\n",
       "    <tr>\n",
       "      <th>Alkaline_Phosphotase</th>\n",
       "      <td>0</td>\n",
       "      <td>0.0</td>\n",
       "    </tr>\n",
       "    <tr>\n",
       "      <th>Alamine_Aminotransferase</th>\n",
       "      <td>0</td>\n",
       "      <td>0.0</td>\n",
       "    </tr>\n",
       "    <tr>\n",
       "      <th>Aspartate_Aminotransferase</th>\n",
       "      <td>0</td>\n",
       "      <td>0.0</td>\n",
       "    </tr>\n",
       "    <tr>\n",
       "      <th>Total_Protiens</th>\n",
       "      <td>0</td>\n",
       "      <td>0.0</td>\n",
       "    </tr>\n",
       "    <tr>\n",
       "      <th>Albumin</th>\n",
       "      <td>0</td>\n",
       "      <td>0.0</td>\n",
       "    </tr>\n",
       "    <tr>\n",
       "      <th>Albumin_and_Globulin_Ratio</th>\n",
       "      <td>0</td>\n",
       "      <td>0.0</td>\n",
       "    </tr>\n",
       "    <tr>\n",
       "      <th>Dataset</th>\n",
       "      <td>0</td>\n",
       "      <td>0.0</td>\n",
       "    </tr>\n",
       "  </tbody>\n",
       "</table>\n",
       "</div>"
      ],
      "text/plain": [
       "                            Null Values  Percentage Null Values\n",
       "Age                                   0                     0.0\n",
       "Gender                                0                     0.0\n",
       "Total_Bilirubin                       0                     0.0\n",
       "Direct_Bilirubin                      0                     0.0\n",
       "Alkaline_Phosphotase                  0                     0.0\n",
       "Alamine_Aminotransferase              0                     0.0\n",
       "Aspartate_Aminotransferase            0                     0.0\n",
       "Total_Protiens                        0                     0.0\n",
       "Albumin                               0                     0.0\n",
       "Albumin_and_Globulin_Ratio            0                     0.0\n",
       "Dataset                               0                     0.0"
      ]
     },
     "execution_count": 7,
     "metadata": {},
     "output_type": "execute_result"
    }
   ],
   "source": [
    "null = pd.DataFrame({'Null Values' : df.isna().sum(), 'Percentage Null Values' : (df.isna().sum()) / (df.shape[0]) * (100)})\n",
    "null"
   ]
  },
  {
   "cell_type": "code",
   "execution_count": 8,
   "id": "0af1ccc5",
   "metadata": {},
   "outputs": [],
   "source": [
    "X = df.drop(['Gender', 'Dataset'], axis = 1)\n",
    "\n",
    "y = df['Dataset']"
   ]
  },
  {
   "cell_type": "code",
   "execution_count": 9,
   "id": "533eb27d",
   "metadata": {},
   "outputs": [
    {
     "data": {
      "text/html": [
       "<div>\n",
       "<style scoped>\n",
       "    .dataframe tbody tr th:only-of-type {\n",
       "        vertical-align: middle;\n",
       "    }\n",
       "\n",
       "    .dataframe tbody tr th {\n",
       "        vertical-align: top;\n",
       "    }\n",
       "\n",
       "    .dataframe thead th {\n",
       "        text-align: right;\n",
       "    }\n",
       "</style>\n",
       "<table border=\"1\" class=\"dataframe\">\n",
       "  <thead>\n",
       "    <tr style=\"text-align: right;\">\n",
       "      <th></th>\n",
       "      <th>Age</th>\n",
       "      <th>Total_Bilirubin</th>\n",
       "      <th>Direct_Bilirubin</th>\n",
       "      <th>Alkaline_Phosphotase</th>\n",
       "      <th>Alamine_Aminotransferase</th>\n",
       "      <th>Aspartate_Aminotransferase</th>\n",
       "      <th>Total_Protiens</th>\n",
       "      <th>Albumin</th>\n",
       "      <th>Albumin_and_Globulin_Ratio</th>\n",
       "    </tr>\n",
       "  </thead>\n",
       "  <tbody>\n",
       "    <tr>\n",
       "      <th>0</th>\n",
       "      <td>65</td>\n",
       "      <td>0.7</td>\n",
       "      <td>0.1</td>\n",
       "      <td>187</td>\n",
       "      <td>16</td>\n",
       "      <td>18</td>\n",
       "      <td>6.8</td>\n",
       "      <td>3.3</td>\n",
       "      <td>0.90</td>\n",
       "    </tr>\n",
       "    <tr>\n",
       "      <th>1</th>\n",
       "      <td>62</td>\n",
       "      <td>10.9</td>\n",
       "      <td>5.5</td>\n",
       "      <td>699</td>\n",
       "      <td>64</td>\n",
       "      <td>100</td>\n",
       "      <td>7.5</td>\n",
       "      <td>3.2</td>\n",
       "      <td>0.74</td>\n",
       "    </tr>\n",
       "    <tr>\n",
       "      <th>2</th>\n",
       "      <td>62</td>\n",
       "      <td>7.3</td>\n",
       "      <td>4.1</td>\n",
       "      <td>490</td>\n",
       "      <td>60</td>\n",
       "      <td>68</td>\n",
       "      <td>7.0</td>\n",
       "      <td>3.3</td>\n",
       "      <td>0.89</td>\n",
       "    </tr>\n",
       "    <tr>\n",
       "      <th>3</th>\n",
       "      <td>58</td>\n",
       "      <td>1.0</td>\n",
       "      <td>0.4</td>\n",
       "      <td>182</td>\n",
       "      <td>14</td>\n",
       "      <td>20</td>\n",
       "      <td>6.8</td>\n",
       "      <td>3.4</td>\n",
       "      <td>1.00</td>\n",
       "    </tr>\n",
       "    <tr>\n",
       "      <th>4</th>\n",
       "      <td>72</td>\n",
       "      <td>3.9</td>\n",
       "      <td>2.0</td>\n",
       "      <td>195</td>\n",
       "      <td>27</td>\n",
       "      <td>59</td>\n",
       "      <td>7.3</td>\n",
       "      <td>2.4</td>\n",
       "      <td>0.40</td>\n",
       "    </tr>\n",
       "    <tr>\n",
       "      <th>...</th>\n",
       "      <td>...</td>\n",
       "      <td>...</td>\n",
       "      <td>...</td>\n",
       "      <td>...</td>\n",
       "      <td>...</td>\n",
       "      <td>...</td>\n",
       "      <td>...</td>\n",
       "      <td>...</td>\n",
       "      <td>...</td>\n",
       "    </tr>\n",
       "    <tr>\n",
       "      <th>574</th>\n",
       "      <td>60</td>\n",
       "      <td>0.5</td>\n",
       "      <td>0.1</td>\n",
       "      <td>500</td>\n",
       "      <td>20</td>\n",
       "      <td>34</td>\n",
       "      <td>5.9</td>\n",
       "      <td>1.6</td>\n",
       "      <td>0.37</td>\n",
       "    </tr>\n",
       "    <tr>\n",
       "      <th>575</th>\n",
       "      <td>40</td>\n",
       "      <td>0.6</td>\n",
       "      <td>0.1</td>\n",
       "      <td>98</td>\n",
       "      <td>35</td>\n",
       "      <td>31</td>\n",
       "      <td>6.0</td>\n",
       "      <td>3.2</td>\n",
       "      <td>1.10</td>\n",
       "    </tr>\n",
       "    <tr>\n",
       "      <th>576</th>\n",
       "      <td>52</td>\n",
       "      <td>0.8</td>\n",
       "      <td>0.2</td>\n",
       "      <td>245</td>\n",
       "      <td>48</td>\n",
       "      <td>49</td>\n",
       "      <td>6.4</td>\n",
       "      <td>3.2</td>\n",
       "      <td>1.00</td>\n",
       "    </tr>\n",
       "    <tr>\n",
       "      <th>577</th>\n",
       "      <td>31</td>\n",
       "      <td>1.3</td>\n",
       "      <td>0.5</td>\n",
       "      <td>184</td>\n",
       "      <td>29</td>\n",
       "      <td>32</td>\n",
       "      <td>6.8</td>\n",
       "      <td>3.4</td>\n",
       "      <td>1.00</td>\n",
       "    </tr>\n",
       "    <tr>\n",
       "      <th>578</th>\n",
       "      <td>38</td>\n",
       "      <td>1.0</td>\n",
       "      <td>0.3</td>\n",
       "      <td>216</td>\n",
       "      <td>21</td>\n",
       "      <td>24</td>\n",
       "      <td>7.3</td>\n",
       "      <td>4.4</td>\n",
       "      <td>1.50</td>\n",
       "    </tr>\n",
       "  </tbody>\n",
       "</table>\n",
       "<p>579 rows × 9 columns</p>\n",
       "</div>"
      ],
      "text/plain": [
       "     Age  Total_Bilirubin  Direct_Bilirubin  Alkaline_Phosphotase  \\\n",
       "0     65              0.7               0.1                   187   \n",
       "1     62             10.9               5.5                   699   \n",
       "2     62              7.3               4.1                   490   \n",
       "3     58              1.0               0.4                   182   \n",
       "4     72              3.9               2.0                   195   \n",
       "..   ...              ...               ...                   ...   \n",
       "574   60              0.5               0.1                   500   \n",
       "575   40              0.6               0.1                    98   \n",
       "576   52              0.8               0.2                   245   \n",
       "577   31              1.3               0.5                   184   \n",
       "578   38              1.0               0.3                   216   \n",
       "\n",
       "     Alamine_Aminotransferase  Aspartate_Aminotransferase  Total_Protiens  \\\n",
       "0                          16                          18             6.8   \n",
       "1                          64                         100             7.5   \n",
       "2                          60                          68             7.0   \n",
       "3                          14                          20             6.8   \n",
       "4                          27                          59             7.3   \n",
       "..                        ...                         ...             ...   \n",
       "574                        20                          34             5.9   \n",
       "575                        35                          31             6.0   \n",
       "576                        48                          49             6.4   \n",
       "577                        29                          32             6.8   \n",
       "578                        21                          24             7.3   \n",
       "\n",
       "     Albumin  Albumin_and_Globulin_Ratio  \n",
       "0        3.3                        0.90  \n",
       "1        3.2                        0.74  \n",
       "2        3.3                        0.89  \n",
       "3        3.4                        1.00  \n",
       "4        2.4                        0.40  \n",
       "..       ...                         ...  \n",
       "574      1.6                        0.37  \n",
       "575      3.2                        1.10  \n",
       "576      3.2                        1.00  \n",
       "577      3.4                        1.00  \n",
       "578      4.4                        1.50  \n",
       "\n",
       "[579 rows x 9 columns]"
      ]
     },
     "execution_count": 9,
     "metadata": {},
     "output_type": "execute_result"
    }
   ],
   "source": [
    "X"
   ]
  },
  {
   "cell_type": "code",
   "execution_count": 10,
   "id": "c02b2771",
   "metadata": {},
   "outputs": [],
   "source": [
    "X_train, X_test, y_train, y_test = train_test_split(X, y, test_size = 0.3, random_state = 42)"
   ]
  },
  {
   "cell_type": "code",
   "execution_count": 11,
   "id": "87c4243b",
   "metadata": {},
   "outputs": [],
   "source": [
    "parameters = {'criterion': ['gini', 'entorpy'],\n",
    "                  'splitter'    : ['best', 'random'],\n",
    "              'max_depth': [20,30,50]\n",
    "                 }"
   ]
  },
  {
   "cell_type": "code",
   "execution_count": 12,
   "id": "45294ba7",
   "metadata": {},
   "outputs": [],
   "source": [
    "cv_folds = [3]"
   ]
  },
  {
   "cell_type": "code",
   "execution_count": 13,
   "id": "88254258",
   "metadata": {},
   "outputs": [],
   "source": [
    "#s_scaler = StandardScaler()\n",
    "#s_scaler = MinMaxScaler()\n",
    "#s_scaler = RobustScaler()"
   ]
  },
  {
   "cell_type": "code",
   "execution_count": 14,
   "id": "f49cebdb",
   "metadata": {},
   "outputs": [],
   "source": [
    "#s_scaled_X_train = s_scaler.fit_transform(X_train)\n",
    "#s_scaled_X_test = s_scaler.transform(X_test)\n",
    "\n",
    "#X_train = s_scaled_X_train\n",
    "#X_test = s_scaled_X_test"
   ]
  },
  {
   "cell_type": "code",
   "execution_count": 15,
   "id": "56ab4f64",
   "metadata": {},
   "outputs": [
    {
     "name": "stdout",
     "output_type": "stream",
     "text": [
      "The best score with CV = 3 is 0.6494252873563219 with parameters =\n",
      "\n",
      " {'criterion': 'gini', 'max_depth': 20, 'splitter': 'best'} \n",
      "\n",
      "\n"
     ]
    }
   ],
   "source": [
    "for x in cv_folds:\n",
    "    DT = GridSearchCV(DecisionTreeClassifier(random_state = 100), parameters, cv = x)\n",
    "    DT.fit(X_train, y_train)\n",
    "    \n",
    "    print('The best score with CV =', x, 'is', DT.score(X_test, y_test), 'with parameters =\\n\\n', DT.best_params_, '\\n\\n')"
   ]
  },
  {
   "cell_type": "code",
   "execution_count": 16,
   "id": "e2b8b9c1",
   "metadata": {},
   "outputs": [],
   "source": [
    "results_dt = DT.cv_results_"
   ]
  },
  {
   "cell_type": "code",
   "execution_count": 17,
   "id": "73038550",
   "metadata": {},
   "outputs": [
    {
     "name": "stdout",
     "output_type": "stream",
     "text": [
      "[{'criterion': 'gini', 'max_depth': 20, 'splitter': 'best'}, {'criterion': 'gini', 'max_depth': 20, 'splitter': 'random'}, {'criterion': 'gini', 'max_depth': 30, 'splitter': 'best'}, {'criterion': 'gini', 'max_depth': 30, 'splitter': 'random'}, {'criterion': 'gini', 'max_depth': 50, 'splitter': 'best'}, {'criterion': 'gini', 'max_depth': 50, 'splitter': 'random'}, {'criterion': 'entorpy', 'max_depth': 20, 'splitter': 'best'}, {'criterion': 'entorpy', 'max_depth': 20, 'splitter': 'random'}, {'criterion': 'entorpy', 'max_depth': 30, 'splitter': 'best'}, {'criterion': 'entorpy', 'max_depth': 30, 'splitter': 'random'}, {'criterion': 'entorpy', 'max_depth': 50, 'splitter': 'best'}, {'criterion': 'entorpy', 'max_depth': 50, 'splitter': 'random'}]\n"
     ]
    }
   ],
   "source": [
    "print(results_dt.get('params'))"
   ]
  },
  {
   "cell_type": "code",
   "execution_count": 18,
   "id": "df9a9918",
   "metadata": {},
   "outputs": [
    {
     "name": "stdout",
     "output_type": "stream",
     "text": [
      "{'criterion': 'gini', 'max_depth': 20, 'splitter': 'best'}\n"
     ]
    }
   ],
   "source": [
    "print(DT.best_params_)"
   ]
  },
  {
   "cell_type": "code",
   "execution_count": 19,
   "id": "60bb0078",
   "metadata": {},
   "outputs": [
    {
     "name": "stdout",
     "output_type": "stream",
     "text": [
      "0.6790123456790123\n"
     ]
    }
   ],
   "source": [
    "print(DT.best_score_)"
   ]
  },
  {
   "cell_type": "code",
   "execution_count": 20,
   "id": "f53ba627",
   "metadata": {},
   "outputs": [],
   "source": [
    "final_DT = DT.best_estimator_"
   ]
  },
  {
   "cell_type": "code",
   "execution_count": 21,
   "id": "0a3e4b28",
   "metadata": {},
   "outputs": [
    {
     "data": {
      "text/plain": [
       "DecisionTreeClassifier(max_depth=20, random_state=100)"
      ]
     },
     "execution_count": 21,
     "metadata": {},
     "output_type": "execute_result"
    }
   ],
   "source": [
    "final_DT"
   ]
  },
  {
   "cell_type": "code",
   "execution_count": 22,
   "id": "8ce05173",
   "metadata": {},
   "outputs": [],
   "source": [
    "s_predictions = final_DT.predict(X_test)"
   ]
  },
  {
   "cell_type": "code",
   "execution_count": 23,
   "id": "b407bc63",
   "metadata": {},
   "outputs": [
    {
     "data": {
      "text/plain": [
       "array([1, 1, 1, 0, 1, 0, 0, 1, 1, 1, 1, 0, 1, 1, 0, 0, 1, 1, 1, 1, 1, 1,\n",
       "       0, 1, 0, 0, 1, 1, 0, 1, 0, 1, 0, 1, 1, 1, 0, 1, 1, 0, 0, 0, 0, 1,\n",
       "       0, 1, 1, 1, 1, 1, 1, 1, 1, 1, 1, 1, 1, 0, 1, 1, 1, 1, 0, 1, 1, 1,\n",
       "       1, 1, 1, 1, 1, 1, 1, 1, 1, 1, 0, 0, 1, 1, 1, 1, 1, 1, 1, 1, 1, 1,\n",
       "       1, 0, 0, 1, 1, 1, 0, 0, 0, 0, 1, 0, 1, 1, 1, 1, 0, 0, 0, 1, 1, 1,\n",
       "       1, 0, 1, 0, 0, 1, 1, 0, 1, 1, 1, 1, 1, 1, 1, 0, 1, 1, 0, 0, 0, 1,\n",
       "       1, 1, 0, 0, 1, 0, 1, 0, 1, 1, 1, 1, 1, 1, 1, 1, 1, 1, 1, 1, 0, 1,\n",
       "       1, 1, 0, 1, 1, 1, 1, 1, 1, 0, 0, 1, 1, 1, 0, 0, 1, 1, 1, 1],\n",
       "      dtype=int64)"
      ]
     },
     "execution_count": 23,
     "metadata": {},
     "output_type": "execute_result"
    }
   ],
   "source": [
    "s_predictions"
   ]
  },
  {
   "cell_type": "code",
   "execution_count": 24,
   "id": "6da43113",
   "metadata": {},
   "outputs": [],
   "source": [
    "from sklearn.metrics import classification_report, confusion_matrix, plot_confusion_matrix"
   ]
  },
  {
   "cell_type": "code",
   "execution_count": 25,
   "id": "7001058e",
   "metadata": {},
   "outputs": [
    {
     "name": "stdout",
     "output_type": "stream",
     "text": [
      "              precision    recall  f1-score   support\n",
      "\n",
      "           0       0.50      0.41      0.45        61\n",
      "           1       0.71      0.78      0.74       113\n",
      "\n",
      "    accuracy                           0.65       174\n",
      "   macro avg       0.60      0.59      0.60       174\n",
      "weighted avg       0.64      0.65      0.64       174\n",
      "\n",
      "[[25 36]\n",
      " [25 88]]\n"
     ]
    }
   ],
   "source": [
    "print(classification_report(y_test, s_predictions))\n",
    "print(confusion_matrix(y_test, s_predictions))"
   ]
  },
  {
   "cell_type": "code",
   "execution_count": 26,
   "id": "981e332f",
   "metadata": {},
   "outputs": [
    {
     "data": {
      "image/png": "[encoded data removed]",
      "text/plain": [
       "<Figure size 576x396 with 2 Axes>"
      ]
     },
     "metadata": {},
     "output_type": "display_data"
    }
   ],
   "source": [
    "from yellowbrick.classifier import ClassificationReport\n",
    "\n",
    "vizualizer_CR = ClassificationReport(final_DT, support=True)\n",
    "vizualizer_CR.fit(X_train, y_train)\n",
    "vizualizer_CR.score(X_test, y_test)\n",
    "vizualizer_CR.show();"
   ]
  },
  {
   "cell_type": "code",
   "execution_count": 27,
   "id": "609015e4",
   "metadata": {},
   "outputs": [
    {
     "name": "stdout",
     "output_type": "stream",
     "text": [
      "Accuracy: 64.9425287356322\n"
     ]
    }
   ],
   "source": [
    "from sklearn import metrics\n",
    "print(\"Accuracy:\", metrics.accuracy_score(y_test, s_predictions)*100)"
   ]
  },
  {
   "cell_type": "code",
   "execution_count": 28,
   "id": "5a1c1ed5",
   "metadata": {},
   "outputs": [
    {
     "data": {
      "image/png": "[encoded data removed]",
      "text/plain": [
       "<Figure size 576x396 with 1 Axes>"
      ]
     },
     "metadata": {},
     "output_type": "display_data"
    }
   ],
   "source": [
    "from yellowbrick.classifier import ConfusionMatrix\n",
    "\n",
    "vizualizer_cm = ConfusionMatrix(final_DT, support=True, label_encoder={1: 'Malignant', 0: 'Benign'})\n",
    "vizualizer_cm.fit(X_train, y_train)\n",
    "vizualizer_cm.score(X_test, y_test)\n",
    "vizualizer_cm.show();"
   ]
  },
  {
   "cell_type": "code",
   "execution_count": 29,
   "id": "e376fbe2",
   "metadata": {},
   "outputs": [
    {
     "name": "stdout",
     "output_type": "stream",
     "text": [
      "AUC: 0.594298564\n"
     ]
    },
    {
     "data": {
      "image/png": "[encoded data removed]",
      "text/plain": [
       "<Figure size 576x396 with 1 Axes>"
      ]
     },
     "metadata": {},
     "output_type": "display_data"
    }
   ],
   "source": [
    "from sklearn.metrics import roc_auc_score\n",
    "from matplotlib import pyplot\n",
    "from sklearn.metrics import roc_curve\n",
    "auc_dt = roc_auc_score(y_test, s_predictions)\n",
    "print('AUC: %0.9f' % auc_dt)\n",
    "fpr, tpr, thresholds = roc_curve(y_test, s_predictions)\n",
    "pyplot.title(\"Decision Trees\")\n",
    "pyplot.ylabel('True Positive Rate')\n",
    "pyplot.xlabel('False Positive Rate')\n",
    "pyplot.plot([0, 1], [0, 1], 'r--')\n",
    "pyplot.plot(fpr, tpr, 'b', label = 'AUC = %0.9f' % auc_dt)\n",
    "pyplot.legend(loc = 'lower right')\n",
    "pyplot.show()"
   ]
  },
  {
   "cell_type": "code",
   "execution_count": null,
   "id": "778b1f11",
   "metadata": {},
   "outputs": [],
   "source": [
    "\n"
   ]
  },
  {
   "cell_type": "code",
   "execution_count": 30,
   "id": "4ab5e21d",
   "metadata": {},
   "outputs": [],
   "source": [
    "#XGBoosting"
   ]
  },
  {
   "cell_type": "code",
   "execution_count": 31,
   "id": "e2591898",
   "metadata": {},
   "outputs": [
    {
     "name": "stdout",
     "output_type": "stream",
     "text": [
      "Fitting 3 folds for each of 12 candidates, totalling 36 fits\n",
      "[20:25:18] WARNING: C:/Users/Administrator/workspace/xgboost-win64_release_1.4.0/src/learner.cc:1095: Starting in XGBoost 1.3.0, the default evaluation metric used with the objective 'binary:logistic' was changed from 'error' to 'logloss'. Explicitly set eval_metric if you'd like to restore the old behavior.\n"
     ]
    }
   ],
   "source": [
    "from xgboost import XGBClassifier\n",
    "\n",
    "\n",
    "parameters_xg = {\n",
    "    'max_depth': range (20, 30, 50),\n",
    "    'n_estimators': range(60, 220, 40),\n",
    "    'learning_rate': [0.1, 0.01, 0.5]\n",
    "}\n",
    "\n",
    "XGB = GridSearchCV(\n",
    "    estimator=XGBClassifier(),\n",
    "    param_grid=parameters_xg,\n",
    "    n_jobs = 10,\n",
    "    cv = x,\n",
    "    verbose=True\n",
    ")\n",
    "\n",
    "#Train the model using the training sets\n",
    "XGB.fit(X_train, y_train)\n",
    "\n",
    "#Predict the response for test dataset\n",
    "XGB_pred = XGB.predict(X_test)"
   ]
  },
  {
   "cell_type": "code",
   "execution_count": 32,
   "id": "cbb4dbce",
   "metadata": {},
   "outputs": [
    {
     "name": "stdout",
     "output_type": "stream",
     "text": [
      "The best score with CV = 3 is 0.6494252873563219 with parameters =\n",
      "\n",
      " {'learning_rate': 0.01, 'max_depth': 20, 'n_estimators': 60} \n",
      "\n",
      "\n"
     ]
    }
   ],
   "source": [
    "print('The best score with CV =', x, 'is', XGB.score(X_test, y_test), 'with parameters =\\n\\n', XGB.best_params_, '\\n\\n')"
   ]
  },
  {
   "cell_type": "code",
   "execution_count": 33,
   "id": "38896b03",
   "metadata": {},
   "outputs": [],
   "source": [
    "results_XGB = XGB.cv_results_"
   ]
  },
  {
   "cell_type": "code",
   "execution_count": 34,
   "id": "4d81ba03",
   "metadata": {},
   "outputs": [
    {
     "name": "stdout",
     "output_type": "stream",
     "text": [
      "[{'learning_rate': 0.1, 'max_depth': 20, 'n_estimators': 60}, {'learning_rate': 0.1, 'max_depth': 20, 'n_estimators': 100}, {'learning_rate': 0.1, 'max_depth': 20, 'n_estimators': 140}, {'learning_rate': 0.1, 'max_depth': 20, 'n_estimators': 180}, {'learning_rate': 0.01, 'max_depth': 20, 'n_estimators': 60}, {'learning_rate': 0.01, 'max_depth': 20, 'n_estimators': 100}, {'learning_rate': 0.01, 'max_depth': 20, 'n_estimators': 140}, {'learning_rate': 0.01, 'max_depth': 20, 'n_estimators': 180}, {'learning_rate': 0.5, 'max_depth': 20, 'n_estimators': 60}, {'learning_rate': 0.5, 'max_depth': 20, 'n_estimators': 100}, {'learning_rate': 0.5, 'max_depth': 20, 'n_estimators': 140}, {'learning_rate': 0.5, 'max_depth': 20, 'n_estimators': 180}]\n",
      "{'learning_rate': 0.01, 'max_depth': 20, 'n_estimators': 60}\n",
      "0.7185185185185184\n"
     ]
    }
   ],
   "source": [
    "print(results_XGB.get('params'))\n",
    "print(XGB.best_params_)\n",
    "print(XGB.best_score_)\n",
    "final_XGB = XGB.best_estimator_"
   ]
  },
  {
   "cell_type": "code",
   "execution_count": 35,
   "id": "344db8a4",
   "metadata": {},
   "outputs": [],
   "source": [
    "XGB_predictions = XGB.predict(X_test)"
   ]
  },
  {
   "cell_type": "code",
   "execution_count": 36,
   "id": "e31b1ca9",
   "metadata": {},
   "outputs": [
    {
     "name": "stdout",
     "output_type": "stream",
     "text": [
      "              precision    recall  f1-score   support\n",
      "\n",
      "           0       0.50      0.25      0.33        61\n",
      "           1       0.68      0.87      0.76       113\n",
      "\n",
      "    accuracy                           0.65       174\n",
      "   macro avg       0.59      0.56      0.55       174\n",
      "weighted avg       0.62      0.65      0.61       174\n",
      "\n",
      "[[15 46]\n",
      " [15 98]]\n"
     ]
    }
   ],
   "source": [
    "print(classification_report(y_test, XGB_predictions))\n",
    "print(confusion_matrix(y_test, XGB_predictions))"
   ]
  },
  {
   "cell_type": "code",
   "execution_count": 37,
   "id": "e046f246",
   "metadata": {},
   "outputs": [
    {
     "data": {
      "image/png": "[encoded data removed]",
      "text/plain": [
       "<Figure size 576x396 with 2 Axes>"
      ]
     },
     "metadata": {},
     "output_type": "display_data"
    }
   ],
   "source": [
    "vizualizer_XGB = ClassificationReport(XGB, support=True)\n",
    "vizualizer_XGB.fit(X_train, y_train)\n",
    "vizualizer_XGB.score(X_test, y_test)\n",
    "vizualizer_XGB.show();"
   ]
  },
  {
   "cell_type": "code",
   "execution_count": 38,
   "id": "083f3158",
   "metadata": {},
   "outputs": [
    {
     "name": "stdout",
     "output_type": "stream",
     "text": [
      "Accuracy: 64.9425287356322\n"
     ]
    }
   ],
   "source": [
    "print(\"Accuracy:\", metrics.accuracy_score(y_test, XGB_predictions)*100)"
   ]
  },
  {
   "cell_type": "code",
   "execution_count": 39,
   "id": "30d16495",
   "metadata": {},
   "outputs": [
    {
     "data": {
      "image/png": "[encoded data removed]",
      "text/plain": [
       "<Figure size 576x396 with 1 Axes>"
      ]
     },
     "metadata": {},
     "output_type": "display_data"
    }
   ],
   "source": [
    "vizualizer_XGB2 = ConfusionMatrix(XGB, support=True)\n",
    "vizualizer_XGB2.fit(X_train, y_train)\n",
    "vizualizer_XGB2.score(X_test, y_test)\n",
    "vizualizer_XGB2.show();"
   ]
  },
  {
   "cell_type": "code",
   "execution_count": 40,
   "id": "ab27f80f",
   "metadata": {},
   "outputs": [
    {
     "name": "stdout",
     "output_type": "stream",
     "text": [
      "AUC: 0.556579138\n"
     ]
    },
    {
     "data": {
      "image/png": "[encoded data removed]",
      "text/plain": [
       "<Figure size 576x396 with 1 Axes>"
      ]
     },
     "metadata": {},
     "output_type": "display_data"
    }
   ],
   "source": [
    "from sklearn.metrics import roc_auc_score\n",
    "from matplotlib import pyplot\n",
    "from sklearn.metrics import roc_curve\n",
    "auc_xg = roc_auc_score(y_test, XGB_predictions)\n",
    "print('AUC: %0.9f' % auc_xg)\n",
    "fpr, tpr, thresholds = roc_curve(y_test, XGB_predictions)\n",
    "pyplot.title(\"XGBoost\")\n",
    "pyplot.ylabel('True Positive Rate')\n",
    "pyplot.xlabel('False Positive Rate')\n",
    "pyplot.plot([0, 1], [0, 1], 'r--')\n",
    "pyplot.plot(fpr, tpr, 'b', label = 'AUC = %0.9f' % auc_xg)\n",
    "pyplot.legend(loc = 'lower right')\n",
    "pyplot.show()"
   ]
  },
  {
   "cell_type": "code",
   "execution_count": 41,
   "id": "4b32efe2",
   "metadata": {},
   "outputs": [],
   "source": []
  },
  {
   "cell_type": "code",
   "execution_count": null,
   "id": "d85c8f48",
   "metadata": {},
   "outputs": [],
   "source": [
    "#Naive Bayes"
   ]
  },
  {
   "cell_type": "code",
   "execution_count": 42,
   "id": "51294d8e",
   "metadata": {},
   "outputs": [],
   "source": [
    "from sklearn.naive_bayes import GaussianNB\n",
    "from sklearn.naive_bayes import BernoulliNB\n",
    "from sklearn.naive_bayes import MultinomialNB\n",
    "from sklearn.naive_bayes import CategoricalNB\n",
    "params_nb = {}\n",
    "naive_bayes_1 = GridSearchCV(GaussianNB(), params_nb, cv = x)\n",
    "naive_bayes_1.fit(X_train , y_train)\n",
    "y_predicted_1 = naive_bayes_1.predict(X_test)"
   ]
  },
  {
   "cell_type": "code",
   "execution_count": 43,
   "id": "13feb499",
   "metadata": {},
   "outputs": [
    {
     "data": {
      "text/plain": [
       "0.6091954022988506"
      ]
     },
     "execution_count": 43,
     "metadata": {},
     "output_type": "execute_result"
    }
   ],
   "source": [
    "metrics.accuracy_score(y_predicted_1 , y_test)"
   ]
  },
  {
   "cell_type": "code",
   "execution_count": 44,
   "id": "12782e50",
   "metadata": {},
   "outputs": [
    {
     "name": "stdout",
     "output_type": "stream",
     "text": [
      "              precision    recall  f1-score   support\n",
      "\n",
      "           0       0.47      0.97      0.63        61\n",
      "           1       0.96      0.42      0.58       113\n",
      "\n",
      "    accuracy                           0.61       174\n",
      "   macro avg       0.72      0.69      0.61       174\n",
      "weighted avg       0.79      0.61      0.60       174\n",
      "\n",
      "[[59  2]\n",
      " [66 47]]\n"
     ]
    }
   ],
   "source": [
    "print(classification_report(y_test, y_predicted_1))\n",
    "print(confusion_matrix(y_test,  y_predicted_1))"
   ]
  },
  {
   "cell_type": "code",
   "execution_count": 45,
   "id": "d606dc11",
   "metadata": {},
   "outputs": [
    {
     "data": {
      "image/png": "[encoded data removed]",
      "text/plain": [
       "<Figure size 576x396 with 2 Axes>"
      ]
     },
     "metadata": {},
     "output_type": "display_data"
    }
   ],
   "source": [
    "from yellowbrick.classifier import ClassificationReport\n",
    "\n",
    "vizualizer_CR = ClassificationReport(naive_bayes_1, support=True)\n",
    "vizualizer_CR.fit(X_train, y_train)\n",
    "vizualizer_CR.score(X_test, y_test)\n",
    "vizualizer_CR.show();"
   ]
  },
  {
   "cell_type": "code",
   "execution_count": 46,
   "id": "486a2483",
   "metadata": {},
   "outputs": [
    {
     "data": {
      "image/png": "[encoded data removed]",
      "text/plain": [
       "<Figure size 576x396 with 1 Axes>"
      ]
     },
     "metadata": {},
     "output_type": "display_data"
    }
   ],
   "source": [
    "from yellowbrick.classifier import ConfusionMatrix\n",
    "\n",
    "vizualizer_cm = ConfusionMatrix(naive_bayes_1, support=True, label_encoder={1: 'Malignant', 2: 'Benign'})\n",
    "vizualizer_cm.fit(X_train, y_train)\n",
    "vizualizer_cm.score(X_test, y_test)\n",
    "vizualizer_cm.show();"
   ]
  },
  {
   "cell_type": "code",
   "execution_count": 47,
   "id": "929ecac5",
   "metadata": {},
   "outputs": [
    {
     "name": "stdout",
     "output_type": "stream",
     "text": [
      "AUC: 0.691571159\n"
     ]
    },
    {
     "data": {
      "image/png": "[encoded data removed]",
      "text/plain": [
       "<Figure size 576x396 with 1 Axes>"
      ]
     },
     "metadata": {},
     "output_type": "display_data"
    }
   ],
   "source": [
    "nbauc = roc_auc_score(y_test, y_predicted_1)\n",
    "print('AUC: %0.9f' % nbauc)\n",
    "fpr, tpr, thresholds = roc_curve(y_test, y_predicted_1)\n",
    "pyplot.title(\"Naive Bayes Gaussian\")\n",
    "pyplot.ylabel('True Positive Rate')\n",
    "pyplot.xlabel('False Positive Rate')\n",
    "pyplot.plot([0, 1], [0, 1], 'r--')\n",
    "pyplot.plot(fpr, tpr, 'b', label = 'AUC = %0.9f' % nbauc)\n",
    "pyplot.legend(loc = 'lower right')\n",
    "pyplot.show()"
   ]
  },
  {
   "cell_type": "code",
   "execution_count": null,
   "id": "87eda30f",
   "metadata": {},
   "outputs": [],
   "source": []
  },
  {
   "cell_type": "code",
   "execution_count": null,
   "id": "22c9b6f9",
   "metadata": {},
   "outputs": [],
   "source": [
    "#RandomForest"
   ]
  },
  {
   "cell_type": "code",
   "execution_count": 48,
   "id": "1bea5c89",
   "metadata": {},
   "outputs": [],
   "source": [
    "from sklearn.ensemble import RandomForestClassifier"
   ]
  },
  {
   "cell_type": "code",
   "execution_count": 49,
   "id": "8f0fdd6b",
   "metadata": {},
   "outputs": [
    {
     "data": {
      "text/plain": [
       "GridSearchCV(cv=3, estimator=RandomForestClassifier(), n_jobs=-1,\n",
       "             param_grid={'max_depth': [80, 90, 100, 110],\n",
       "                         'n_estimators': [320, 330, 340]})"
      ]
     },
     "execution_count": 49,
     "metadata": {},
     "output_type": "execute_result"
    }
   ],
   "source": [
    "parameters_rf = {\n",
    "    'n_estimators'      : [320,330,340],\n",
    "    'max_depth'         : [80, 90, 100, 110]\n",
    "}\n",
    "\n",
    "clf = GridSearchCV(RandomForestClassifier(), parameters_rf, cv=x, n_jobs=-1)\n",
    "clf.fit(X_train, y_train)\n"
   ]
  },
  {
   "cell_type": "code",
   "execution_count": 50,
   "id": "cf3f022f",
   "metadata": {},
   "outputs": [
    {
     "name": "stdout",
     "output_type": "stream",
     "text": [
      "1.0\n",
      "{'max_depth': 80, 'n_estimators': 330}\n"
     ]
    }
   ],
   "source": [
    "print(clf.score(X_train, y_train))\n",
    "print(clf.best_params_)"
   ]
  },
  {
   "cell_type": "code",
   "execution_count": 51,
   "id": "7f6d5b7e",
   "metadata": {},
   "outputs": [],
   "source": [
    "result = clf.predict(X_test)"
   ]
  },
  {
   "cell_type": "code",
   "execution_count": 52,
   "id": "0682c52e",
   "metadata": {},
   "outputs": [
    {
     "data": {
      "text/plain": [
       "0.6666666666666666"
      ]
     },
     "execution_count": 52,
     "metadata": {},
     "output_type": "execute_result"
    }
   ],
   "source": [
    "metrics.accuracy_score(result , y_test)"
   ]
  },
  {
   "cell_type": "code",
   "execution_count": 53,
   "id": "ee53e88d",
   "metadata": {},
   "outputs": [
    {
     "name": "stdout",
     "output_type": "stream",
     "text": [
      "              precision    recall  f1-score   support\n",
      "\n",
      "           0       0.57      0.20      0.29        61\n",
      "           1       0.68      0.92      0.78       113\n",
      "\n",
      "    accuracy                           0.67       174\n",
      "   macro avg       0.63      0.56      0.54       174\n",
      "weighted avg       0.64      0.67      0.61       174\n",
      "\n",
      "[[ 12  49]\n",
      " [  9 104]]\n"
     ]
    }
   ],
   "source": [
    "print(classification_report(y_test, result))\n",
    "print(confusion_matrix(y_test, result))"
   ]
  },
  {
   "cell_type": "code",
   "execution_count": 54,
   "id": "465130c7",
   "metadata": {},
   "outputs": [
    {
     "data": {
      "image/png": "[encoded data removed]",
      "text/plain": [
       "<Figure size 576x396 with 2 Axes>"
      ]
     },
     "metadata": {},
     "output_type": "display_data"
    }
   ],
   "source": [
    "from yellowbrick.classifier import ClassificationReport\n",
    "\n",
    "vizualizer_rf = ClassificationReport(clf, support=True)\n",
    "vizualizer_rf.fit(X_train, y_train)\n",
    "vizualizer_rf.score(X_test, y_test)\n",
    "vizualizer_rf.show();"
   ]
  },
  {
   "cell_type": "code",
   "execution_count": 55,
   "id": "46c03f45",
   "metadata": {},
   "outputs": [
    {
     "data": {
      "image/png": "[encoded data removed]",
      "text/plain": [
       "<Figure size 576x396 with 1 Axes>"
      ]
     },
     "metadata": {},
     "output_type": "display_data"
    }
   ],
   "source": [
    "from yellowbrick.classifier import ConfusionMatrix\n",
    "\n",
    "vizualizer_rf1 = ConfusionMatrix(clf, support=True, label_encoder={1: 'Malignant', 2: 'Benign'})\n",
    "vizualizer_rf1.fit(X_train, y_train)\n",
    "vizualizer_rf1.score(X_test, y_test)\n",
    "vizualizer_rf1.show();"
   ]
  },
  {
   "cell_type": "code",
   "execution_count": 56,
   "id": "57c4d477",
   "metadata": {},
   "outputs": [
    {
     "name": "stdout",
     "output_type": "stream",
     "text": [
      "AUC: 0.558537647\n"
     ]
    },
    {
     "data": {
      "image/png": "[encoded data removed]",
      "text/plain": [
       "<Figure size 576x396 with 1 Axes>"
      ]
     },
     "metadata": {},
     "output_type": "display_data"
    }
   ],
   "source": [
    "aucrf = roc_auc_score(y_test, result)\n",
    "print('AUC: %0.9f' % aucrf)\n",
    "fpr, tpr, thresholds = roc_curve(y_test, result)\n",
    "pyplot.title(\"random forest\")\n",
    "pyplot.ylabel('True Positive Rate')\n",
    "pyplot.xlabel('False Positive Rate')\n",
    "pyplot.plot([0, 1], [0, 1], 'r--')\n",
    "pyplot.plot(fpr, tpr, 'b', label = 'AUC = %0.9f' % aucrf)\n",
    "pyplot.legend(loc = 'lower right')\n",
    "pyplot.show()"
   ]
  }
 ],
 "metadata": {
  "kernelspec": {
   "display_name": "Python 3 (ipykernel)",
   "language": "python",
   "name": "python3"
  },
  "language_info": {
   "codemirror_mode": {
    "name": "ipython",
    "version": 3
   },
   "file_extension": ".py",
   "mimetype": "text/x-python",
   "name": "python",
   "nbconvert_exporter": "python",
   "pygments_lexer": "ipython3",
   "version": "3.8.13"
  }
 },
 "nbformat": 4,
 "nbformat_minor": 5
}
